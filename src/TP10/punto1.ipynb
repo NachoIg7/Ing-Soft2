{
 "cells": [
  {
   "cell_type": "markdown",
   "metadata": {},
   "source": [
    "**Importacion de las librerias necesarias.**"
   ]
  },
  {
   "cell_type": "code",
   "execution_count": 5,
   "metadata": {},
   "outputs": [],
   "source": [
    "\n",
    "import numpy as np\n",
    "\n"
   ]
  },
  {
   "cell_type": "markdown",
   "metadata": {},
   "source": [
    "La ingeniería financiera de un proyecto de software pronostica que será necesario invertir $1000 por mes durante 12 meses para llevarlo a cabo, asuma que el patrocinante pagara en forma mensual vencido por los flujos del proyecto. Si finaliza el proyecto en el mes 12 el patrocinante podrá lanzar negocios subyacentes por los que comenzará a recibir flujos de caja por un tiempo prolongado, para simplificar se puede considerar que el valor presente de esos flujos en ese momento equivale a $18000.- Para los cálculos financieros se utiliza una tasa efectiva mensual del 1%. Implemente utilizando un script en Jupiter notebook. \n",
    "\n",
    "\n"
   ]
  },
  {
   "cell_type": "code",
   "execution_count": 6,
   "metadata": {},
   "outputs": [
    {
     "name": "stdout",
     "output_type": "stream",
     "text": [
      "El valor presente total del proyecto es: $27229.16\n"
     ]
    }
   ],
   "source": [
    "\n",
    "C_fi = [1000] * 12  # Pagos de $1000 durante 12 meses\n",
    "C_fi[-1] += 18000   # En el último mes se agregan $18000 adicionales\n",
    "r = 0.01            # Tasa de interés mensual (1%)\n",
    "\n",
    "# Calcular el valor presente total con la fórmula proporcionada\n",
    "VP_total = sum(C_fi[i] / (1 + r)**(i + 1) for i in range(12))\n",
    "\n",
    "\n",
    "print(f\"El valor presente total del proyecto es: ${VP_total:.2f}\")\n"
   ]
  },
  {
   "cell_type": "markdown",
   "metadata": {},
   "source": [
    "<h2>Calculo VPN</h2>\n",
    "Calcular el VPN Para 12 meses iniciales."
   ]
  },
  {
   "cell_type": "code",
   "execution_count": 15,
   "metadata": {},
   "outputs": [
    {
     "name": "stdout",
     "output_type": "stream",
     "text": [
      "El valor presente de los costos es: $11817.83\n",
      "El valor presente de beneficios es: $15974.09\n",
      "El valor presente Neto (VPN) es: $4156.25\n"
     ]
    }
   ],
   "source": [
    "C = 1050            # Pago mensual\n",
    "r = 0.01            # Tasa de interés mensual (1%)\n",
    "n = 12              # Número de meses\n",
    "VF_beneficios = 18000  # Valor futuro de los beneficios en el mes 12\n",
    "\n",
    "# Calcular el valor presente de los costos\n",
    "VP_costos = C * (1 - (1 + r)**-n) / r\n",
    "\n",
    "# Calcular el valor presente de los beneficios\n",
    "VP_beneficios = VF_beneficios / (1 + r)**n\n",
    "\n",
    "# Calcular el Valor Presente Neto (VPN)\n",
    "VPN = VP_beneficios - VP_costos\n",
    "\n",
    "# Mostrar los resultados\n",
    "print(f\"El valor presente de los costos es: ${VP_costos:.2f}\")\n",
    "print(f\"El valor presente de beneficios es: ${VP_beneficios:.2f}\")\n",
    "print(f\"El valor presente Neto (VPN) es: ${VPN:.2f}\")\n"
   ]
  },
  {
   "cell_type": "markdown",
   "metadata": {},
   "source": [
    "<h2>Calculo del VPN con extension</h2>\n",
    "Calcular el VPN, si el proyecto se extiende por 3 meses mas."
   ]
  },
  {
   "cell_type": "code",
   "execution_count": 12,
   "metadata": {},
   "outputs": [
    {
     "name": "stdout",
     "output_type": "stream",
     "text": [
      "El valor presente de los costos es: $13865.05\n",
      "El valor presente de beneficios es: $15504.29\n",
      "El valor presente Neto (VPN) es: $1639.24\n"
     ]
    }
   ],
   "source": [
    "C = 1000            # Pago mensual\n",
    "r = 0.01            # Tasa de interés mensual (1%)\n",
    "n = 15              # Número de meses\n",
    "VF_beneficios = 18000  # Valor futuro de los beneficios en el mes 12\n",
    "\n",
    "# Calcular el valor presente de los costos\n",
    "VP_costos = C * (1 - (1 + r)**-n) / r\n",
    "\n",
    "# Calcular el valor presente de los beneficios\n",
    "VP_beneficios = VF_beneficios / (1 + r)**n\n",
    "\n",
    "# Calcular el Valor Presente Neto (VPN)\n",
    "VPN = VP_beneficios - VP_costos\n",
    "\n",
    "# Mostrar los resultados\n",
    "print(f\"El valor presente de los costos es: ${VP_costos:.2f}\")\n",
    "print(f\"El valor presente de beneficios es: ${VP_beneficios:.2f}\")\n",
    "print(f\"El valor presente Neto (VPN) es: ${VPN:.2f}\")"
   ]
  },
  {
   "cell_type": "markdown",
   "metadata": {},
   "source": [
    "<h2>Calculo de la rentabilidad</h2>\n",
    "Calcular la rentabilidad en cada uno de los casos anteriores.\n",
    "Para su calcula usamos la formula VPN sobre el valor presente de la inversion.\n"
   ]
  },
  {
   "cell_type": "code",
   "execution_count": 13,
   "metadata": {},
   "outputs": [
    {
     "name": "stdout",
     "output_type": "stream",
     "text": [
      "La rentabilidad en el primer caso es: $0.42\n",
      "La rentabilidad en el segundo caso es: $0.18\n"
     ]
    }
   ],
   "source": [
    "# Datos del primer caso\n",
    "VPN_inicial = 4749.65  # Valor Presente Neto para 12 meses\n",
    "VP_inversion_inicial = 11250  # Valor Presente de la Inversión para 12 meses\n",
    "\n",
    "# Datos del segundo caso\n",
    "VPN_extendido = 2397.26  # Valor Presente Neto para 15 meses\n",
    "VP_inversion_extendido = 13140  # Valor Presente de la Inversión para 15 meses\n",
    "\n",
    "# Calcular la rentabilidad para el primer caso\n",
    "rentabilidad_inicial = VPN_inicial / VP_inversion_inicial\n",
    "\n",
    "# Calcular la rentabilidad para el segundo caso\n",
    "rentabilidad_extendido = VPN_extendido / VP_inversion_extendido\n",
    "\n",
    "# Mostrar los resultados\n",
    "print(f\"La rentabilidad en el primer caso es: ${rentabilidad_inicial:.2f}\")\n",
    "print(f\"La rentabilidad en el segundo caso es: ${rentabilidad_extendido:.2f}\")\n"
   ]
  },
  {
   "cell_type": "markdown",
   "metadata": {},
   "source": [
    "<h2>Impacto del Retraso en la Entrega del Proyecto</h2>\n",
    "\n",
    "\n",
    "**Vamos a calcular el impacto de un retraso de 6 meses en el proyecto, considerando:**\n",
    "\n",
    "\n",
    "**Costo Adicional por Retraso:** Costo Adicional = 1000 × 6 = 6000\n",
    "\n",
    "\n",
    "**Nuevo Valor Presente de la Inversión:** 𝑉𝑃nueva inversion = 𝑉𝑃inicial + Costo Adicional\n",
    "\n",
    "\n",
    "Donde VPinicial es el valor presente de la inversion sin el retraso. \n",
    "​\n",
    "\n",
    "\n",
    "**Nuevo Valor Presente de los Beneficios:** 𝑉𝑃beneficios nuevo = 18000/ (1 + 0.01) elevado a la 21.\n",
    "\n",
    "\n",
    "Donde 21 es el número total de meses (12 iniciales + 6 meses adicionales + 3 meses de extensión).\n",
    "\n",
    "\n",
    "**Nuevo Valor Presente Neto (VPN) y Rentabilidad:**\n",
    "\n",
    "\n",
    "Calcular el nuevo VPN usando el nuevo valor presente de los beneficios y la nueva inversión.\n",
    "Calcular la nueva rentabilidad con el nuevo VPN.\n"
   ]
  },
  {
   "cell_type": "code",
   "execution_count": 14,
   "metadata": {},
   "outputs": [
    {
     "name": "stdout",
     "output_type": "stream",
     "text": [
      "El nuevo Valor Presente Neto es: $-2644.26\n",
      "El valor de beneficios nuevo es: $14605.74\n",
      "El valor presente de la inversion con retraso es: $17250.00\n",
      "El valor de la rentabilidad es: $-0.15\n"
     ]
    }
   ],
   "source": [
    "# Parámetros para el retraso de 6 meses\n",
    "meses_retraso = 6\n",
    "costo_adicional = 1000 * meses_retraso  # Costo adicional por el retraso\n",
    "\n",
    "# Valor presente de la inversión original\n",
    "VP_inversion_inicial = 11250  # Valor Presente de la Inversión para 12 meses\n",
    "\n",
    "# Nuevo Valor Presente de la Inversión con retraso\n",
    "VP_nueva_inversion = VP_inversion_inicial + costo_adicional\n",
    "\n",
    "# Calcular el nuevo valor presente de los beneficios con un retraso de 6 meses\n",
    "nueva_tasa_interes = 0.01\n",
    "nueva_duracion = 21  # 12 meses iniciales + 6 meses adicionales + 3 meses de extensión\n",
    "VP_beneficios_nuevo = 18000 / (1 + nueva_tasa_interes)**nueva_duracion\n",
    "\n",
    "# Calcular el nuevo Valor Presente Neto (VPN) con el retraso\n",
    "VPN_nuevo = VP_beneficios_nuevo - VP_nueva_inversion\n",
    "\n",
    "# Calcular la nueva rentabilidad\n",
    "rentabilidad_nueva = VPN_nuevo / VP_nueva_inversion\n",
    "\n",
    "# Mostrar los resultados\n",
    "VPN_nuevo, VP_beneficios_nuevo, VP_nueva_inversion, rentabilidad_nueva\n",
    "\n",
    "print(f\"El nuevo Valor Presente Neto es: ${VPN_nuevo:.2f}\")\n",
    "print(f\"El valor de beneficios nuevo es: ${VP_beneficios_nuevo:.2f}\")\n",
    "print(f\"El valor presente de la inversion con retraso es: ${VP_nueva_inversion:.2f}\")\n",
    "print(f\"El valor de la rentabilidad es: ${rentabilidad_nueva:.2f}\")\n"
   ]
  }
 ],
 "metadata": {
  "kernelspec": {
   "display_name": "Python 3",
   "language": "python",
   "name": "python3"
  },
  "language_info": {
   "codemirror_mode": {
    "name": "ipython",
    "version": 3
   },
   "file_extension": ".py",
   "mimetype": "text/x-python",
   "name": "python",
   "nbconvert_exporter": "python",
   "pygments_lexer": "ipython3",
   "version": "3.12.2"
  }
 },
 "nbformat": 4,
 "nbformat_minor": 2
}
